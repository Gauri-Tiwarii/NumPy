{
 "cells": [
  {
   "cell_type": "code",
   "execution_count": 1,
   "id": "34c20d50-0a76-4ab1-972b-452d3d88540a",
   "metadata": {},
   "outputs": [
    {
     "name": "stdout",
     "output_type": "stream",
     "text": [
      "Original Array:\n",
      " [[93 40 89]\n",
      " [75 69 35]\n",
      " [15  1 90]]\n",
      "Transposed Array:\n",
      " [[93 75 15]\n",
      " [40 69  1]\n",
      " [89 35 90]]\n"
     ]
    }
   ],
   "source": [
    "#1. Create a 3x3 NumPy array with random integers between 1 and 100. Then, interchange its rows and columns.\n",
    "\n",
    "import numpy as np\n",
    "\n",
    "array = np.random.randint(1, 101, size=(3, 3)) # Creating a 3x3 array with random integers between 1 and 100\n",
    "print(\"Original Array:\\n\", array)\n",
    "\n",
    "transposed_array = array.T # Interchanging rows and columns (transpose the matrix)\n",
    "print(\"Transposed Array:\\n\", transposed_array)\n"
   ]
  },
  {
   "cell_type": "code",
   "execution_count": 2,
   "id": "1f238506-9542-4a70-b437-8fbb750882c6",
   "metadata": {},
   "outputs": [
    {
     "name": "stdout",
     "output_type": "stream",
     "text": [
      "1D Array:\n",
      "[0 1 2 3 4 5 6 7 8 9]\n",
      "\n",
      "2x5 Array:\n",
      "[[0 1 2 3 4]\n",
      " [5 6 7 8 9]]\n",
      "\n",
      "5x2 Array:\n",
      "[[0 1]\n",
      " [2 3]\n",
      " [4 5]\n",
      " [6 7]\n",
      " [8 9]]\n"
     ]
    }
   ],
   "source": [
    "#2. Generate a 1D NumPy array with 10 elements. Reshape it into a 2x5 array, then into a 5x2 array.\n",
    "\n",
    "import numpy as np\n",
    "\n",
    "array_1d = np.arange(10) # Generating a 1D NumPy array with 10 elements\n",
    "\n",
    "array_2x5 = array_1d.reshape(2, 5) # Reshaping the 1D array into a 2x5 array\n",
    "\n",
    "array_5x2 = array_2x5.reshape(5, 2) # Reshaping the 2x5 array into a 5x2 array\n",
    "\n",
    "print(\"1D Array:\")\n",
    "print(array_1d)\n",
    "print(\"\\n2x5 Array:\")\n",
    "print(array_2x5)\n",
    "print(\"\\n5x2 Array:\")\n",
    "print(array_5x2)\n"
   ]
  },
  {
   "cell_type": "code",
   "execution_count": 3,
   "id": "9c9ed2c8-f044-44c7-8ae6-162cdeda43a8",
   "metadata": {},
   "outputs": [
    {
     "name": "stdout",
     "output_type": "stream",
     "text": [
      "4x4 Array with Random Float Values:\n",
      "[[0.45006657 0.10035176 0.61884993 0.05446383]\n",
      " [0.12413838 0.69373794 0.36154862 0.93038974]\n",
      " [0.90645026 0.52335528 0.69629451 0.76733261]\n",
      " [0.78320378 0.51960159 0.11518245 0.36953721]]\n",
      "\n",
      "6x6 Array with Zero Border:\n",
      "[[0.         0.         0.         0.         0.         0.        ]\n",
      " [0.         0.45006657 0.10035176 0.61884993 0.05446383 0.        ]\n",
      " [0.         0.12413838 0.69373794 0.36154862 0.93038974 0.        ]\n",
      " [0.         0.90645026 0.52335528 0.69629451 0.76733261 0.        ]\n",
      " [0.         0.78320378 0.51960159 0.11518245 0.36953721 0.        ]\n",
      " [0.         0.         0.         0.         0.         0.        ]]\n"
     ]
    }
   ],
   "source": [
    "#3. Create a 4x4 NumPy array with random float values. Add a border of zeros around it, resulting in a 6x6 array.\n",
    "\n",
    "import numpy as np\n",
    "\n",
    "array_4x4 = np.random.rand(4, 4) # Creating a 4x4 array with random float values\n",
    "\n",
    "array_6x6 = np.pad(array_4x4, pad_width=1, mode='constant', constant_values=0) # Adding a border of zeros around the 4x4 array to make it 6x6\n",
    "\n",
    "print(\"4x4 Array with Random Float Values:\")\n",
    "print(array_4x4)\n",
    "print(\"\\n6x6 Array with Zero Border:\")\n",
    "print(array_6x6)\n"
   ]
  },
  {
   "cell_type": "code",
   "execution_count": 2,
   "id": "e96dd20e-4e63-4e1d-bd85-d1d45c63f0a5",
   "metadata": {},
   "outputs": [
    {
     "name": "stdout",
     "output_type": "stream",
     "text": [
      "[10 15 20 25 30 35 40 45 50 55 60]\n"
     ]
    }
   ],
   "source": [
    "#4. Using NumPy, create an array of integers from 10 to 60 with a step of 5.\n",
    "\n",
    "import numpy as np\n",
    "\n",
    "array = np.arange(10, 61, 5) # Creating an array from 10 to 60 with a step of 5\n",
    "\n",
    "print(array)\n",
    "\n"
   ]
  },
  {
   "cell_type": "code",
   "execution_count": 1,
   "id": "0927d6e8-5e77-465c-bcdc-5d7983d42f08",
   "metadata": {},
   "outputs": [
    {
     "name": "stdout",
     "output_type": "stream",
     "text": [
      "Original array: ['python' 'numpy' 'pandas']\n",
      "Uppercase: ['PYTHON' 'NUMPY' 'PANDAS']\n",
      "Lowercase: ['python' 'numpy' 'pandas']\n",
      "Titlecase: ['Python' 'Numpy' 'Pandas']\n"
     ]
    }
   ],
   "source": [
    "#5. Create a NumPy array of strings ['python', 'numpy', 'pandas']. Apply different case transformations \n",
    "#(uppercase, lowercase, title case, etc.) to each element.\n",
    "\n",
    "import numpy as np\n",
    "\n",
    "array = np.array(['python', 'numpy', 'pandas']) # Creating an array of strings\n",
    "\n",
    "# Applying different case transformations\n",
    "uppercase_array = np.char.upper(array)   # Convert to uppercase\n",
    "lowercase_array = np.char.lower(array)   # Convert to lowercase\n",
    "titlecase_array = np.char.title(array)   # Convert to title case\n",
    "\n",
    "print(\"Original array:\", array)\n",
    "print(\"Uppercase:\", uppercase_array)\n",
    "print(\"Lowercase:\", lowercase_array)\n",
    "print(\"Titlecase:\", titlecase_array)\n"
   ]
  },
  {
   "cell_type": "code",
   "execution_count": 2,
   "id": "23f77c5e-4aa2-429c-8bac-2519b3fde9de",
   "metadata": {},
   "outputs": [
    {
     "name": "stdout",
     "output_type": "stream",
     "text": [
      "['h e l l o' 'w o r l d' 'n u m p y' 'a r r a y']\n"
     ]
    }
   ],
   "source": [
    "#6. Generate a NumPy array of words. Insert a space between each character of every word in the array\n",
    "\n",
    "import numpy as np\n",
    "\n",
    "# Create a NumPy array of words\n",
    "words = np.array(['hello', 'world', 'numpy', 'array'])\n",
    "\n",
    "# Function to insert spaces between characters of a word\n",
    "def insert_spaces(word):\n",
    "    return ' '.join(word)\n",
    "\n",
    "# Apply the function to each word in the array\n",
    "spaced_words = np.array([insert_spaces(word) for word in words])\n",
    "\n",
    "print(spaced_words)\n"
   ]
  },
  {
   "cell_type": "code",
   "execution_count": 3,
   "id": "b8f9f935-c4aa-4daa-a9aa-816126c73d0d",
   "metadata": {},
   "outputs": [
    {
     "name": "stdout",
     "output_type": "stream",
     "text": [
      "Array 1:\n",
      "[[1 2 3]\n",
      " [4 5 6]]\n",
      "\n",
      "Array 2:\n",
      "[[ 7  8  9]\n",
      " [10 11 12]]\n",
      "\n",
      "Addition:\n",
      "[[ 8 10 12]\n",
      " [14 16 18]]\n",
      "\n",
      "Subtraction:\n",
      "[[-6 -6 -6]\n",
      " [-6 -6 -6]]\n",
      "\n",
      "Multiplication:\n",
      "[[ 7 16 27]\n",
      " [40 55 72]]\n",
      "\n",
      "Division:\n",
      "[[0.14285714 0.25       0.33333333]\n",
      " [0.4        0.45454545 0.5       ]]\n"
     ]
    }
   ],
   "source": [
    "#7. Create two 2D NumPy arrays and perform element-wise addition, subtraction, multiplication, and division.\n",
    "\n",
    "import numpy as np\n",
    "\n",
    "# Create two 2D NumPy arrays\n",
    "array1 = np.array([[1, 2, 3], [4, 5, 6]])\n",
    "array2 = np.array([[7, 8, 9], [10, 11, 12]])\n",
    "\n",
    "# Perform element-wise addition\n",
    "addition = array1 + array2\n",
    "\n",
    "# Perform element-wise subtraction\n",
    "subtraction = array1 - array2\n",
    "\n",
    "# Perform element-wise multiplication\n",
    "multiplication = array1 * array2\n",
    "\n",
    "# Perform element-wise division\n",
    "division = array1 / array2\n",
    "\n",
    "# Print the results\n",
    "print(\"Array 1:\")\n",
    "print(array1)\n",
    "print(\"\\nArray 2:\")\n",
    "print(array2)\n",
    "print(\"\\nAddition:\")\n",
    "print(addition)\n",
    "print(\"\\nSubtraction:\")\n",
    "print(subtraction)\n",
    "print(\"\\nMultiplication:\")\n",
    "print(multiplication)\n",
    "print(\"\\nDivision:\")\n",
    "print(division)\n"
   ]
  },
  {
   "cell_type": "code",
   "execution_count": 4,
   "id": "e82c4bfb-ece5-4fdf-ada1-f585c9376614",
   "metadata": {},
   "outputs": [
    {
     "name": "stdout",
     "output_type": "stream",
     "text": [
      "5x5 Identity Matrix:\n",
      "[[1. 0. 0. 0. 0.]\n",
      " [0. 1. 0. 0. 0.]\n",
      " [0. 0. 1. 0. 0.]\n",
      " [0. 0. 0. 1. 0.]\n",
      " [0. 0. 0. 0. 1.]]\n",
      "\n",
      "Diagonal Elements:\n",
      "[1. 1. 1. 1. 1.]\n"
     ]
    }
   ],
   "source": [
    "#8. Use NumPy to create a 5x5 identity matrix, then extract its diagonal elements.\n",
    "\n",
    "import numpy as np\n",
    "\n",
    "# Create a 5x5 identity matrix\n",
    "identity_matrix = np.eye(5)\n",
    "\n",
    "# Extract the diagonal elements\n",
    "diagonal_elements = np.diagonal(identity_matrix)\n",
    "\n",
    "# Print the results\n",
    "print(\"5x5 Identity Matrix:\")\n",
    "print(identity_matrix)\n",
    "print(\"\\nDiagonal Elements:\")\n",
    "print(diagonal_elements)\n"
   ]
  },
  {
   "cell_type": "code",
   "execution_count": 5,
   "id": "c88d380c-2fc5-418a-942f-91a9be9e4dbb",
   "metadata": {},
   "outputs": [
    {
     "name": "stdout",
     "output_type": "stream",
     "text": [
      "Array of Random Integers:\n",
      "[201 382 944 475  29 177 652 795 737 243  15 522 597 675 421 309 724 543\n",
      " 869 322 930  85  60 476 870 762 176 221 895 783 315 289 555 636 531 567\n",
      " 846 927 976 448 849 476 394 953 430 818 496  69 673  25 145 795 290 925\n",
      " 569 450 647 139 835 958 245 152 216 999 520 306 559 359 461 995 921 928\n",
      " 782 670 319 670 873 347  11 186 184 528 783 425 689 943 928 655 324 248\n",
      " 552 735 904 153 466 311 487 829 838 660]\n",
      "\n",
      "Prime Numbers in the Array:\n",
      "[ 29 421 953 673 569 647 139 359 461 347  11 311 487 829]\n"
     ]
    }
   ],
   "source": [
    "#9. Generate a NumPy array of 100 random integers between 0 and 1000. Find and display all prime numbers in this array.\n",
    "\n",
    "import numpy as np\n",
    "\n",
    "# Generate a NumPy array of 100 random integers between 0 and 1000\n",
    "random_integers = np.random.randint(0, 1001, size=100)\n",
    "\n",
    "# Function to check if a number is prime\n",
    "def is_prime(n):\n",
    "    \"\"\"Return True if n is a prime number, else False.\"\"\"\n",
    "    if n <= 1:\n",
    "        return False\n",
    "    if n <= 3:\n",
    "        return True\n",
    "    if n % 2 == 0 or n % 3 == 0:\n",
    "        return False\n",
    "    i = 5\n",
    "    while i * i <= n:\n",
    "        if n % i == 0 or n % (i + 2) == 0:\n",
    "            return False\n",
    "        i += 6\n",
    "    return True\n",
    "\n",
    "# Find and display all prime numbers in the array\n",
    "prime_numbers = np.array([num for num in random_integers if is_prime(num)])\n",
    "\n",
    "# Print the results\n",
    "print(\"Array of Random Integers:\")\n",
    "print(random_integers)\n",
    "print(\"\\nPrime Numbers in the Array:\")\n",
    "print(prime_numbers)\n"
   ]
  },
  {
   "cell_type": "code",
   "execution_count": 8,
   "id": "a587f3bc-fd71-47e7-848c-4c5a16b6cb38",
   "metadata": {},
   "outputs": [
    {
     "name": "stdout",
     "output_type": "stream",
     "text": [
      "Daily Temperatures for the Month:\n",
      "[28.23220256 30.7278405  29.04145064 28.17324774 26.35482199 29.6884117\n",
      " 26.56380817 33.37659501 34.45494141 25.75162278 31.87587557 27.9334238\n",
      " 28.52066842 33.88394957 21.06554087 21.3069395  20.30327596 32.48929768\n",
      " 31.67235126 33.05018222 34.67927513 31.98737846 26.92219043 31.70793764\n",
      " 21.77411639 29.59881532 22.15029931 34.17003376]\n",
      "\n",
      "Weekly Temperatures (Reshaped):\n",
      "[[28.23220256 30.7278405  29.04145064 28.17324774 26.35482199 29.6884117\n",
      "  26.56380817]\n",
      " [33.37659501 34.45494141 25.75162278 31.87587557 27.9334238  28.52066842\n",
      "  33.88394957]\n",
      " [21.06554087 21.3069395  20.30327596 32.48929768 31.67235126 33.05018222\n",
      "  34.67927513]\n",
      " [31.98737846 26.92219043 31.70793764 21.77411639 29.59881532 22.15029931\n",
      "  34.17003376]]\n",
      "\n",
      "Weekly Averages:\n",
      "[28.39739761 30.82815379 27.79526609 28.33011019]\n"
     ]
    }
   ],
   "source": [
    "#10. Create a NumPy array representing daily temperatures for a month. Calculate and display the weekly averages.\n",
    "\n",
    "import numpy as np\n",
    "\n",
    "# Step 1: Generate daily temperatures for a month (30 days)\n",
    "np.random.seed(0)  # For reproducibility\n",
    "daily_temperatures = np.random.uniform(low=20, high=35, size=28)\n",
    "\n",
    "# Step 2: Reshape the array to represent weeks (4 weeks, each with 7 days)\n",
    "# Note: For 30 days, the number of weeks might not be exact. \n",
    "# Here we assume 4 weeks of 7 days and handle the extra days separately.\n",
    "weeks = daily_temperatures.reshape(4, 7)\n",
    "\n",
    "# Step 3: Calculate weekly averages\n",
    "weekly_averages = np.mean(weeks, axis=1)\n",
    "\n",
    "# Display results\n",
    "print(\"Daily Temperatures for the Month:\")\n",
    "print(daily_temperatures)\n",
    "print(\"\\nWeekly Temperatures (Reshaped):\")\n",
    "print(weeks)\n",
    "print(\"\\nWeekly Averages:\")\n",
    "print(weekly_averages)\n"
   ]
  }
 ],
 "metadata": {
  "kernelspec": {
   "display_name": "Python 3 (ipykernel)",
   "language": "python",
   "name": "python3"
  },
  "language_info": {
   "codemirror_mode": {
    "name": "ipython",
    "version": 3
   },
   "file_extension": ".py",
   "mimetype": "text/x-python",
   "name": "python",
   "nbconvert_exporter": "python",
   "pygments_lexer": "ipython3",
   "version": "3.10.8"
  }
 },
 "nbformat": 4,
 "nbformat_minor": 5
}
